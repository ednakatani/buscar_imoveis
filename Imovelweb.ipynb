{
 "cells": [
  {
   "cell_type": "markdown",
   "metadata": {},
   "source": [
    "## Busca de Imóveis - ImovelWeb\n",
    "\n",
    "Utilizar sites de corretoras para criar um dataset de imóveis de Curitiba\n",
    "\n",
    "* Programação Concorrente"
   ]
  },
  {
   "cell_type": "code",
   "execution_count": 1,
   "metadata": {},
   "outputs": [],
   "source": [
    "from bs4 import BeautifulSoup\n",
    "import requests\n",
    "import re\n",
    "import csv\n",
    "from rateL import RateLimiter\n",
    "from concurrent.futures import ThreadPoolExecutor, as_completed\n",
    "from tqdm import tqdm\n",
    "from unidecode import unidecode\n",
    "import cloudscraper\n",
    "\n",
    "RATE_LIMITER = RateLimiter(10)\n",
    "SCRAPER = cloudscraper.create_scraper()\n",
    "\n",
    "SITE = \"https://www.imovelweb.com.br/casas-venda-curitiba-pr-pagina-{pagina}.html\""
   ]
  },
  {
   "cell_type": "markdown",
   "metadata": {},
   "source": [
    "#### Bairros"
   ]
  },
  {
   "cell_type": "code",
   "execution_count": 2,
   "metadata": {},
   "outputs": [],
   "source": [
    "with open('bairros.txt', 'r', encoding='utf-8') as f:\n",
    "    \n",
    "    bairros ={}\n",
    "\n",
    "    bs = f.read().splitlines()\n",
    "\n",
    "    for b in range(len(bs)):\n",
    "        bairros[bs[b]] = b"
   ]
  },
  {
   "cell_type": "markdown",
   "metadata": {},
   "source": [
    "#### Funções"
   ]
  },
  {
   "cell_type": "code",
   "execution_count": 3,
   "metadata": {},
   "outputs": [],
   "source": [
    "def list_to_csv(list,file):\n",
    "    with open(file, 'a',newline='', encoding='utf-8') as csvfile:\n",
    "        writer = csv.writer(csvfile)\n",
    "        #writer.writerow(['local','preco','metragem','quartos','garagens','banheiros','bairro'])\n",
    "        writer.writerows(list)"
   ]
  },
  {
   "cell_type": "code",
   "execution_count": 4,
   "metadata": {},
   "outputs": [],
   "source": [
    "def define_bairro(local):\n",
    "    global bairros\n",
    "    for bairro in bairros:\n",
    "        if unidecode(bairro) in unidecode(local):\n",
    "            return bairros.get(bairro)\n",
    "    return -1"
   ]
  },
  {
   "cell_type": "code",
   "execution_count": 5,
   "metadata": {},
   "outputs": [],
   "source": [
    "def get_page(s,p):\n",
    "    headers = requests.utils.default_headers()\n",
    "    headers.update({\n",
    "        'User-Agent': 'Mozilla/5.0 (X11; Ubuntu; Linux x86_64; rv:52.0) Gecko/20100101 Firefox/52.0',\n",
    "    })\n",
    "\n",
    "    #next(RATE_LIMITER)\n",
    "\n",
    "    link = s.format(pagina=p)\n",
    "    content = SCRAPER.get(link).text\n",
    "\n",
    "    #print(content)\n",
    "\n",
    "    result = re.sub(r'<!.*?->','', content)\n",
    "    result = result.replace('\\n','')\n",
    "\n",
    "    reddit1Content =BeautifulSoup(result,\"html.parser\")\n",
    "\n",
    "    cards = reddit1Content.find_all('div', class_='sc-i1odl-1 cDJsOw')\n",
    "\n",
    "    imoveis = []\n",
    "    for card in cards:\n",
    "        imovel = []\n",
    "\n",
    "        local = card.find(attrs={'data-qa': 'POSTING_CARD_LOCATION'}).text\n",
    "        imovel.append(local)\n",
    "\n",
    "        preco =card.find(attrs={'data-qa': 'POSTING_CARD_PRICE'}).text\n",
    "        imovel.append(preco.replace('R$','').replace(' ','').replace('.',''))\n",
    "\n",
    "        features = card.find(attrs={'data-qa': 'POSTING_CARD_FEATURES'})\n",
    "        \n",
    "        try:\n",
    "            dados = features.text.split('  ')\n",
    "        except:\n",
    "            continue\n",
    "       \n",
    "\n",
    "        try:\n",
    "            metragem = dados[1]\n",
    "            if 'm²' in metragem:\n",
    "                imovel.append(metragem.replace('m²','').replace(' ',''))\n",
    "            else:\n",
    "                imovel.append('')\n",
    "        except:\n",
    "            imovel.append('')\n",
    "\n",
    "        try:\n",
    "            quartos = dados[2]\n",
    "            if 'quarto' in quartos or 'quartos' in quartos:\n",
    "                imovel.append(quartos.replace('quartos','').replace('quarto','').replace(' ',''))\n",
    "            else:\n",
    "                imovel.append('')\n",
    "        except:\n",
    "            imovel.append('')\n",
    "\n",
    "        try:\n",
    "            garagens = dados[4]\n",
    "            if 'vaga' in garagens or 'vagas' in garagens:\n",
    "                imovel.append(garagens.replace('vagas','').replace('vaga','').replace(' ',''))\n",
    "            else:\n",
    "                imovel.append('')\n",
    "        except:\n",
    "            imovel.append('')\n",
    "\n",
    "        try:\n",
    "            banheiros = dados[3]\n",
    "            if 'banheiro' in banheiros or 'ban' in banheiros:\n",
    "                imovel.append(banheiros.replace('banheiro','').replace('ban','').replace(' ',''))\n",
    "            else:\n",
    "                imovel.append('')\n",
    "\n",
    "        except:\n",
    "            imovel.append('')\n",
    "        \n",
    "        bairro = define_bairro(local)\n",
    "        imovel.append(bairro)\n",
    "\n",
    "        imoveis.append(imovel)\n",
    "        \n",
    "    \n",
    "\n",
    "    return imoveis"
   ]
  },
  {
   "cell_type": "code",
   "execution_count": 6,
   "metadata": {},
   "outputs": [],
   "source": [
    "def thread_executor(pages):\n",
    "    imoveis = []\n",
    "\n",
    "    threads= []\n",
    "    erros = []\n",
    "    with ThreadPoolExecutor(15) as executor:\n",
    "        for p in pages:\n",
    "            threads.append(executor.submit(get_page, SITE, p))\n",
    "\n",
    "        for task in tqdm(as_completed(threads),total=len(threads)):\n",
    "                    if task.result() == False:\n",
    "                        erros.append(task.result())\n",
    "                    else:\n",
    "                        imoveis += task.result()\n",
    "                        \n",
    "                    continue\n",
    "    return imoveis"
   ]
  },
  {
   "cell_type": "markdown",
   "metadata": {},
   "source": [
    "#### Execução"
   ]
  },
  {
   "cell_type": "code",
   "execution_count": 10,
   "metadata": {},
   "outputs": [
    {
     "name": "stderr",
     "output_type": "stream",
     "text": [
      "100%|██████████| 99/99 [00:34<00:00,  2.89it/s]\n"
     ]
    }
   ],
   "source": [
    "imoveis = thread_executor(range(701,800))\n",
    "\n",
    "list_to_csv(imoveis,'imoveis_imovelweb.csv')"
   ]
  },
  {
   "cell_type": "code",
   "execution_count": null,
   "metadata": {},
   "outputs": [],
   "source": []
  }
 ],
 "metadata": {
  "kernelspec": {
   "display_name": "Python 3.7.8 32-bit",
   "language": "python",
   "name": "python3"
  },
  "language_info": {
   "codemirror_mode": {
    "name": "ipython",
    "version": 3
   },
   "file_extension": ".py",
   "mimetype": "text/x-python",
   "name": "python",
   "nbconvert_exporter": "python",
   "pygments_lexer": "ipython3",
   "version": "3.7.8"
  },
  "orig_nbformat": 4,
  "vscode": {
   "interpreter": {
    "hash": "c72eea38e31e45ece3384b9089d7a4f46e899cb129d83cdec1758a1f0e4694ab"
   }
  }
 },
 "nbformat": 4,
 "nbformat_minor": 2
}
