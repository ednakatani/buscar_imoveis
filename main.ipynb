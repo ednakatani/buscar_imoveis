{
 "cells": [
  {
   "cell_type": "markdown",
   "metadata": {},
   "source": [
    "## Busca de Imóveis\n",
    "\n",
    "Utilizar sites de corretoras para criar um dataset de imóveis de Curitiba"
   ]
  },
  {
   "cell_type": "code",
   "execution_count": 27,
   "metadata": {},
   "outputs": [],
   "source": [
    "from bs4 import BeautifulSoup, Comment\n",
    "import requests\n",
    "import re\n",
    "from time import sleep\n",
    "import csv\n",
    "\n",
    "SITE = \"https://www.zapimoveis.com.br/venda/imoveis/pr+curitiba/?onde=,Paran%C3%A1,Curitiba,,,,,city,BR%3EParana%3ENULL%3ECuritiba,-25.437238,-49.269973,&pagina={pagina}&tipo=Im%C3%B3vel%20usado&transacao=Venda\""
   ]
  },
  {
   "cell_type": "markdown",
   "metadata": {},
   "source": [
    "#### Funções"
   ]
  },
  {
   "cell_type": "code",
   "execution_count": 28,
   "metadata": {},
   "outputs": [],
   "source": [
    "def list_to_csv(list,file):\n",
    "    with open(file, 'w',newline='', encoding='utf-8') as csvfile:\n",
    "        writer = csv.writer(csvfile)\n",
    "        writer.writerow(['local','preco','metragem','quartos','garagens','banheiros'])\n",
    "        writer.writerows(list)"
   ]
  },
  {
   "cell_type": "code",
   "execution_count": 29,
   "metadata": {},
   "outputs": [],
   "source": [
    "def get_page(s,p):\n",
    "    headers = requests.utils.default_headers()\n",
    "    headers.update({\n",
    "        'User-Agent': 'Mozilla/5.0 (X11; Ubuntu; Linux x86_64; rv:52.0) Gecko/20100101 Firefox/52.0',\n",
    "    })\n",
    "\n",
    "    link = requests.get(s.format(pagina=p), headers=headers)\n",
    "\n",
    "    if link.ok:\n",
    "\n",
    "        result = re.sub(r'<!.*?->','', link.content.decode(\"utf-8\"))\n",
    "        result = result.replace('\\n','')\n",
    "\n",
    "        reddit1Content =BeautifulSoup(result,\"html.parser\")\n",
    "\n",
    "        cards = reddit1Content.find_all('div', class_='simple-card__box')\n",
    "\n",
    "        imoveis = []\n",
    "        for card in cards:\n",
    "            imovel = []\n",
    "\n",
    "            local = card.find('h2').text\n",
    "            imovel.append(local.replace('            ','').replace('          ',''))\n",
    "\n",
    "            preco =card.find('p').find('strong').text\n",
    "            imovel.append(preco.replace('R$','').replace(' ','').replace('.',''))\n",
    "\n",
    "            try:\n",
    "                metragem = card.find(\"span\", itemprop=\"floorSize\").text\n",
    "                imovel.append(metragem.replace('m²','').replace(' ',''))\n",
    "            except:\n",
    "                imovel.append('')\n",
    "\n",
    "            try:\n",
    "                quartos = card.find(\"span\", itemprop=\"numberOfRooms\").text\n",
    "                imovel.append(quartos.replace(' ',''))\n",
    "            except:\n",
    "                imovel.append('')\n",
    "\n",
    "            try:\n",
    "                garagens = card.find(\"li\", class_=\"feature__item text-small js-parking-spaces\")\n",
    "                garagens = garagens.find('span', class_=\"\").text\n",
    "                imovel.append(garagens.replace(' ',''))\n",
    "            except:\n",
    "                imovel.append('')\n",
    "\n",
    "            try:\n",
    "                banheiros = card.find(\"span\", itemprop=\"numberOfBathroomsTotal\").text\n",
    "                imovel.append(banheiros.replace(' ',''))\n",
    "            except:\n",
    "                imovel.append('')\n",
    "\n",
    "            imoveis.append(imovel)\n",
    "        \n",
    "    else:\n",
    "        return False\n",
    "\n",
    "    return imoveis"
   ]
  },
  {
   "cell_type": "markdown",
   "metadata": {},
   "source": [
    "#### Execução"
   ]
  },
  {
   "cell_type": "code",
   "execution_count": 30,
   "metadata": {},
   "outputs": [],
   "source": [
    "imoveis = []\n",
    "\n",
    "paginas = range(1,20)\n",
    "\n",
    "for p in paginas:\n",
    "    i = get_page(SITE,p)\n",
    "    \n",
    "    if i == False:\n",
    "        break\n",
    "    \n",
    "    imoveis += i\n",
    "    sleep(10)\n",
    "\n",
    "list_to_csv(imoveis,'imoveis.csv')"
   ]
  }
 ],
 "metadata": {
  "kernelspec": {
   "display_name": "Python 3.7.8 32-bit",
   "language": "python",
   "name": "python3"
  },
  "language_info": {
   "codemirror_mode": {
    "name": "ipython",
    "version": 3
   },
   "file_extension": ".py",
   "mimetype": "text/x-python",
   "name": "python",
   "nbconvert_exporter": "python",
   "pygments_lexer": "ipython3",
   "version": "3.7.8"
  },
  "orig_nbformat": 4,
  "vscode": {
   "interpreter": {
    "hash": "c72eea38e31e45ece3384b9089d7a4f46e899cb129d83cdec1758a1f0e4694ab"
   }
  }
 },
 "nbformat": 4,
 "nbformat_minor": 2
}
