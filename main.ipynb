{
 "cells": [
  {
   "cell_type": "markdown",
   "metadata": {},
   "source": [
    "## Busca de Imóveis\n",
    "\n",
    "Utilizar sites de corretoras para criar um dataset de imóveis de Curitiba\n",
    "\n",
    "* Programação Concorrente"
   ]
  },
  {
   "cell_type": "code",
   "execution_count": 18,
   "metadata": {},
   "outputs": [],
   "source": [
    "from bs4 import BeautifulSoup\n",
    "import requests\n",
    "import re\n",
    "import csv\n",
    "from rateL import RateLimiter\n",
    "from concurrent.futures import ThreadPoolExecutor, as_completed\n",
    "from tqdm import tqdm\n",
    "from unidecode import unidecode\n",
    "\n",
    "RATE_LIMITER = RateLimiter(2)\n",
    "SITE = \"https://www.zapimoveis.com.br/venda/imoveis/pr+curitiba/?onde=,Paran%C3%A1,Curitiba,,,,,city,BR%3EParana%3ENULL%3ECuritiba,-25.437238,-49.269973,&pagina={pagina}&tipo=Im%C3%B3vel%20usado&transacao=Venda\""
   ]
  },
  {
   "cell_type": "markdown",
   "metadata": {},
   "source": [
    "#### Bairros"
   ]
  },
  {
   "cell_type": "code",
   "execution_count": 23,
   "metadata": {},
   "outputs": [],
   "source": [
    "with open('bairros.txt', 'r', encoding='utf-8') as f:\n",
    "    \n",
    "    bairros ={}\n",
    "\n",
    "    bs = f.read().splitlines()\n",
    "\n",
    "    for b in range(len(bs)):\n",
    "        bairros[bs[b]] = b"
   ]
  },
  {
   "cell_type": "markdown",
   "metadata": {},
   "source": [
    "#### Funções"
   ]
  },
  {
   "cell_type": "code",
   "execution_count": 21,
   "metadata": {},
   "outputs": [],
   "source": [
    "def list_to_csv(list,file):\n",
    "    with open(file, 'w',newline='', encoding='utf-8') as csvfile:\n",
    "        writer = csv.writer(csvfile)\n",
    "        writer.writerow(['local','preco','metragem','quartos','garagens','banheiros','bairro'])\n",
    "        writer.writerows(list)"
   ]
  },
  {
   "cell_type": "code",
   "execution_count": 3,
   "metadata": {},
   "outputs": [],
   "source": [
    "def get_page(s,p):\n",
    "    headers = requests.utils.default_headers()\n",
    "    headers.update({\n",
    "        'User-Agent': 'Mozilla/5.0 (X11; Ubuntu; Linux x86_64; rv:52.0) Gecko/20100101 Firefox/52.0',\n",
    "    })\n",
    "\n",
    "    next(RATE_LIMITER)\n",
    "\n",
    "    link = requests.get(s.format(pagina=p), headers=headers)\n",
    "\n",
    "    if link.ok:\n",
    "\n",
    "        result = re.sub(r'<!.*?->','', link.content.decode(\"utf-8\"))\n",
    "        result = result.replace('\\n','')\n",
    "\n",
    "        reddit1Content =BeautifulSoup(result,\"html.parser\")\n",
    "\n",
    "        cards = reddit1Content.find_all('div', class_='simple-card__box')\n",
    "\n",
    "        imoveis = []\n",
    "        for card in cards:\n",
    "            imovel = []\n",
    "\n",
    "            local = card.find('h2').text\n",
    "            imovel.append(local.replace('            ','').replace('          ',''))\n",
    "\n",
    "            preco =card.find('p').find('strong').text\n",
    "            imovel.append(preco.replace('R$','').replace(' ','').replace('.',''))\n",
    "\n",
    "            try:\n",
    "                metragem = card.find(\"span\", itemprop=\"floorSize\").text\n",
    "                imovel.append(metragem.replace('m²','').replace(' ',''))\n",
    "            except:\n",
    "                imovel.append('')\n",
    "\n",
    "            try:\n",
    "                quartos = card.find(\"span\", itemprop=\"numberOfRooms\").text\n",
    "                imovel.append(quartos.replace(' ',''))\n",
    "            except:\n",
    "                imovel.append('')\n",
    "\n",
    "            try:\n",
    "                garagens = card.find(\"li\", class_=\"feature__item text-small js-parking-spaces\")\n",
    "                garagens = garagens.find('span', class_=\"\").text\n",
    "                imovel.append(garagens.replace(' ',''))\n",
    "            except:\n",
    "                imovel.append('')\n",
    "\n",
    "            try:\n",
    "                banheiros = card.find(\"span\", itemprop=\"numberOfBathroomsTotal\").text\n",
    "                imovel.append(banheiros.replace(' ',''))\n",
    "            except:\n",
    "                imovel.append('')\n",
    "            \n",
    "            bairro = define_bairro(local.replace('            ','').replace('          ',''))\n",
    "            imovel.append(bairro)\n",
    "\n",
    "            imoveis.append(imovel)\n",
    "        \n",
    "    else:\n",
    "        return False\n",
    "\n",
    "    return imoveis"
   ]
  },
  {
   "cell_type": "code",
   "execution_count": 19,
   "metadata": {},
   "outputs": [],
   "source": [
    "def define_bairro(local):\n",
    "    global bairros\n",
    "    for bairro in bairros:\n",
    "        if unidecode(bairro) in unidecode(local):\n",
    "            return bairros.get(bairro)\n",
    "    return -1"
   ]
  },
  {
   "cell_type": "code",
   "execution_count": 7,
   "metadata": {},
   "outputs": [],
   "source": [
    "def thread_executor(pages):\n",
    "    imoveis = []\n",
    "\n",
    "    threads= []\n",
    "    erros = []\n",
    "    with ThreadPoolExecutor(15) as executor:\n",
    "        for p in pages:\n",
    "            threads.append(executor.submit(get_page, SITE, p))\n",
    "\n",
    "        for task in tqdm(as_completed(threads),total=len(threads)):\n",
    "                    if task.result() == False:\n",
    "                        erros.append(task.result())\n",
    "                    else:\n",
    "                        imoveis += task.result()\n",
    "                        \n",
    "                    continue\n",
    "    return imoveis"
   ]
  },
  {
   "cell_type": "markdown",
   "metadata": {},
   "source": [
    "#### Execução"
   ]
  },
  {
   "cell_type": "code",
   "execution_count": 8,
   "metadata": {},
   "outputs": [
    {
     "name": "stderr",
     "output_type": "stream",
     "text": [
      " 11%|█         | 2/19 [00:05<00:47,  2.79s/it]\n"
     ]
    }
   ],
   "source": [
    "imoveis = thread_executor(range(1,20))\n",
    "\n",
    "list_to_csv(imoveis,'imoveis.csv')"
   ]
  }
 ],
 "metadata": {
  "kernelspec": {
   "display_name": "Python 3.7.8 32-bit",
   "language": "python",
   "name": "python3"
  },
  "language_info": {
   "codemirror_mode": {
    "name": "ipython",
    "version": 3
   },
   "file_extension": ".py",
   "mimetype": "text/x-python",
   "name": "python",
   "nbconvert_exporter": "python",
   "pygments_lexer": "ipython3",
   "version": "3.7.8"
  },
  "orig_nbformat": 4,
  "vscode": {
   "interpreter": {
    "hash": "c72eea38e31e45ece3384b9089d7a4f46e899cb129d83cdec1758a1f0e4694ab"
   }
  }
 },
 "nbformat": 4,
 "nbformat_minor": 2
}
